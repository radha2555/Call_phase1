{
  "nbformat": 4,
  "nbformat_minor": 0,
  "metadata": {
    "colab": {
      "provenance": []
    },
    "kernelspec": {
      "name": "python3",
      "display_name": "Python 3"
    },
    "language_info": {
      "name": "python"
    }
  },
  "cells": [
    {
      "cell_type": "code",
      "source": [
        "!pip install -U assemblyai\n",
        "!pip install googletrans==4.0.0-rc1\n",
        "!pip install httpx==0.16.0\n"
      ],
      "metadata": {
        "colab": {
          "base_uri": "https://localhost:8080/",
          "height": 1000
        },
        "id": "dI2vmGVpbA7g",
        "outputId": "133bb0b3-bace-49df-bb6b-392c6a04a26e"
      },
      "execution_count": null,
      "outputs": [
        {
          "output_type": "stream",
          "name": "stdout",
          "text": [
            "Requirement already satisfied: assemblyai in /usr/local/lib/python3.11/dist-packages (0.36.0)\n",
            "Requirement already satisfied: httpx>=0.19.0 in /usr/local/lib/python3.11/dist-packages (from assemblyai) (0.23.0)\n",
            "Requirement already satisfied: pydantic>=1.10.17 in /usr/local/lib/python3.11/dist-packages (from assemblyai) (2.10.5)\n",
            "Requirement already satisfied: typing-extensions>=3.7 in /usr/local/lib/python3.11/dist-packages (from assemblyai) (4.12.2)\n",
            "Requirement already satisfied: websockets>=11.0 in /usr/local/lib/python3.11/dist-packages (from assemblyai) (14.2)\n",
            "Requirement already satisfied: certifi in /usr/local/lib/python3.11/dist-packages (from httpx>=0.19.0->assemblyai) (2024.12.14)\n",
            "Requirement already satisfied: sniffio in /usr/local/lib/python3.11/dist-packages (from httpx>=0.19.0->assemblyai) (1.3.1)\n",
            "Requirement already satisfied: rfc3986<2,>=1.3 in /usr/local/lib/python3.11/dist-packages (from rfc3986[idna2008]<2,>=1.3->httpx>=0.19.0->assemblyai) (1.5.0)\n",
            "Requirement already satisfied: httpcore<0.16.0,>=0.15.0 in /usr/local/lib/python3.11/dist-packages (from httpx>=0.19.0->assemblyai) (0.15.0)\n",
            "Requirement already satisfied: annotated-types>=0.6.0 in /usr/local/lib/python3.11/dist-packages (from pydantic>=1.10.17->assemblyai) (0.7.0)\n",
            "Requirement already satisfied: pydantic-core==2.27.2 in /usr/local/lib/python3.11/dist-packages (from pydantic>=1.10.17->assemblyai) (2.27.2)\n",
            "Requirement already satisfied: h11<0.13,>=0.11 in /usr/local/lib/python3.11/dist-packages (from httpcore<0.16.0,>=0.15.0->httpx>=0.19.0->assemblyai) (0.12.0)\n",
            "Requirement already satisfied: anyio==3.* in /usr/local/lib/python3.11/dist-packages (from httpcore<0.16.0,>=0.15.0->httpx>=0.19.0->assemblyai) (3.7.1)\n",
            "Requirement already satisfied: idna>=2.8 in /usr/local/lib/python3.11/dist-packages (from anyio==3.*->httpcore<0.16.0,>=0.15.0->httpx>=0.19.0->assemblyai) (2.10)\n",
            "Requirement already satisfied: googletrans==4.0.0-rc1 in /usr/local/lib/python3.11/dist-packages (4.0.0rc1)\n",
            "Collecting httpx==0.13.3 (from googletrans==4.0.0-rc1)\n",
            "  Using cached httpx-0.13.3-py3-none-any.whl.metadata (25 kB)\n",
            "Requirement already satisfied: certifi in /usr/local/lib/python3.11/dist-packages (from httpx==0.13.3->googletrans==4.0.0-rc1) (2024.12.14)\n",
            "Requirement already satisfied: hstspreload in /usr/local/lib/python3.11/dist-packages (from httpx==0.13.3->googletrans==4.0.0-rc1) (2025.1.1)\n",
            "Requirement already satisfied: sniffio in /usr/local/lib/python3.11/dist-packages (from httpx==0.13.3->googletrans==4.0.0-rc1) (1.3.1)\n",
            "Requirement already satisfied: chardet==3.* in /usr/local/lib/python3.11/dist-packages (from httpx==0.13.3->googletrans==4.0.0-rc1) (3.0.4)\n",
            "Requirement already satisfied: idna==2.* in /usr/local/lib/python3.11/dist-packages (from httpx==0.13.3->googletrans==4.0.0-rc1) (2.10)\n",
            "Requirement already satisfied: rfc3986<2,>=1.3 in /usr/local/lib/python3.11/dist-packages (from httpx==0.13.3->googletrans==4.0.0-rc1) (1.5.0)\n",
            "Collecting httpcore==0.9.* (from httpx==0.13.3->googletrans==4.0.0-rc1)\n",
            "  Using cached httpcore-0.9.1-py3-none-any.whl.metadata (4.6 kB)\n",
            "Collecting h11<0.10,>=0.8 (from httpcore==0.9.*->httpx==0.13.3->googletrans==4.0.0-rc1)\n",
            "  Using cached h11-0.9.0-py2.py3-none-any.whl.metadata (8.1 kB)\n",
            "Requirement already satisfied: h2==3.* in /usr/local/lib/python3.11/dist-packages (from httpcore==0.9.*->httpx==0.13.3->googletrans==4.0.0-rc1) (3.2.0)\n",
            "Requirement already satisfied: hyperframe<6,>=5.2.0 in /usr/local/lib/python3.11/dist-packages (from h2==3.*->httpcore==0.9.*->httpx==0.13.3->googletrans==4.0.0-rc1) (5.2.0)\n",
            "Requirement already satisfied: hpack<4,>=3.0 in /usr/local/lib/python3.11/dist-packages (from h2==3.*->httpcore==0.9.*->httpx==0.13.3->googletrans==4.0.0-rc1) (3.0.0)\n",
            "Using cached httpx-0.13.3-py3-none-any.whl (55 kB)\n",
            "Using cached httpcore-0.9.1-py3-none-any.whl (42 kB)\n",
            "Using cached h11-0.9.0-py2.py3-none-any.whl (53 kB)\n",
            "Installing collected packages: h11, httpcore, httpx\n",
            "  Attempting uninstall: h11\n",
            "    Found existing installation: h11 0.12.0\n",
            "    Uninstalling h11-0.12.0:\n",
            "      Successfully uninstalled h11-0.12.0\n",
            "  Attempting uninstall: httpcore\n",
            "    Found existing installation: httpcore 0.15.0\n",
            "    Uninstalling httpcore-0.15.0:\n",
            "      Successfully uninstalled httpcore-0.15.0\n",
            "  Attempting uninstall: httpx\n",
            "    Found existing installation: httpx 0.23.0\n",
            "    Uninstalling httpx-0.23.0:\n",
            "      Successfully uninstalled httpx-0.23.0\n",
            "\u001b[31mERROR: pip's dependency resolver does not currently take into account all the packages that are installed. This behaviour is the source of the following dependency conflicts.\n",
            "assemblyai 0.36.0 requires httpx>=0.19.0, but you have httpx 0.13.3 which is incompatible.\n",
            "openai 1.59.9 requires httpx<1,>=0.23.0, but you have httpx 0.13.3 which is incompatible.\n",
            "langsmith 0.3.0 requires httpx<1,>=0.23.0, but you have httpx 0.13.3 which is incompatible.\u001b[0m\u001b[31m\n",
            "\u001b[0mSuccessfully installed h11-0.9.0 httpcore-0.9.1 httpx-0.13.3\n"
          ]
        },
        {
          "output_type": "display_data",
          "data": {
            "application/vnd.colab-display-data+json": {
              "pip_warning": {
                "packages": [
                  "h11",
                  "httpcore",
                  "httpx"
                ]
              },
              "id": "85498c567027425393d16178692a3566"
            }
          },
          "metadata": {}
        },
        {
          "output_type": "stream",
          "name": "stdout",
          "text": [
            "Collecting httpx==0.16.0\n",
            "  Downloading httpx-0.16.0-py3-none-any.whl.metadata (38 kB)\n",
            "Requirement already satisfied: certifi in /usr/local/lib/python3.11/dist-packages (from httpx==0.16.0) (2024.12.14)\n",
            "Requirement already satisfied: sniffio in /usr/local/lib/python3.11/dist-packages (from httpx==0.16.0) (1.3.1)\n",
            "Requirement already satisfied: rfc3986<2,>=1.3 in /usr/local/lib/python3.11/dist-packages (from rfc3986[idna2008]<2,>=1.3->httpx==0.16.0) (1.5.0)\n",
            "Collecting httpcore==0.12.* (from httpx==0.16.0)\n",
            "  Downloading httpcore-0.12.3-py3-none-any.whl.metadata (10 kB)\n",
            "Requirement already satisfied: h11==0.* in /usr/local/lib/python3.11/dist-packages (from httpcore==0.12.*->httpx==0.16.0) (0.9.0)\n",
            "Requirement already satisfied: idna in /usr/local/lib/python3.11/dist-packages (from rfc3986[idna2008]<2,>=1.3->httpx==0.16.0) (2.10)\n",
            "Downloading httpx-0.16.0-py3-none-any.whl (65 kB)\n",
            "\u001b[2K   \u001b[90m━━━━━━━━━━━━━━━━━━━━━━━━━━━━━━━━━━━━━━━━\u001b[0m \u001b[32m65.4/65.4 kB\u001b[0m \u001b[31m4.4 MB/s\u001b[0m eta \u001b[36m0:00:00\u001b[0m\n",
            "\u001b[?25hDownloading httpcore-0.12.3-py3-none-any.whl (55 kB)\n",
            "\u001b[2K   \u001b[90m━━━━━━━━━━━━━━━━━━━━━━━━━━━━━━━━━━━━━━━━\u001b[0m \u001b[32m55.8/55.8 kB\u001b[0m \u001b[31m4.1 MB/s\u001b[0m eta \u001b[36m0:00:00\u001b[0m\n",
            "\u001b[?25hInstalling collected packages: httpcore, httpx\n",
            "  Attempting uninstall: httpcore\n",
            "    Found existing installation: httpcore 0.9.1\n",
            "    Uninstalling httpcore-0.9.1:\n",
            "      Successfully uninstalled httpcore-0.9.1\n",
            "  Attempting uninstall: httpx\n",
            "    Found existing installation: httpx 0.13.3\n",
            "    Uninstalling httpx-0.13.3:\n",
            "      Successfully uninstalled httpx-0.13.3\n",
            "\u001b[31mERROR: pip's dependency resolver does not currently take into account all the packages that are installed. This behaviour is the source of the following dependency conflicts.\n",
            "googletrans 4.0.0rc1 requires httpx==0.13.3, but you have httpx 0.16.0 which is incompatible.\n",
            "assemblyai 0.36.0 requires httpx>=0.19.0, but you have httpx 0.16.0 which is incompatible.\n",
            "openai 1.59.9 requires httpx<1,>=0.23.0, but you have httpx 0.16.0 which is incompatible.\n",
            "langsmith 0.3.0 requires httpx<1,>=0.23.0, but you have httpx 0.16.0 which is incompatible.\u001b[0m\u001b[31m\n",
            "\u001b[0mSuccessfully installed httpcore-0.12.3 httpx-0.16.0\n"
          ]
        },
        {
          "output_type": "display_data",
          "data": {
            "application/vnd.colab-display-data+json": {
              "pip_warning": {
                "packages": [
                  "httpcore",
                  "httpx"
                ]
              },
              "id": "0b094b134b8540aea079ceba2d1ff524"
            }
          },
          "metadata": {}
        }
      ]
    },
    {
      "cell_type": "code",
      "execution_count": null,
      "metadata": {
        "colab": {
          "base_uri": "https://localhost:8080/"
        },
        "id": "F8Ub-GuZaFZr",
        "outputId": "2c5777e5-e211-45f8-9206-252ee3ae39d4"
      },
      "outputs": [
        {
          "output_type": "stream",
          "name": "stdout",
          "text": [
            "This very good, evening sir, I am getting like this?I am talking to bank insurance.It can be a matter of 2 minutes.\n",
            "Say, your first medical policy was being done in Argo which has been closed.So why did you stop this policy, you were not getting some problem, then you did not have Argametakuparbalum, then you have stopped the policy, I have not stopped, I did not stop, I shifted the policy to Aditya Birla, you people also callDid you say no.Right now, Hijri is right, how is it right now sir, the plan you were doing was a very old plan, so you just offered you.But now Arg's new plan interview optimascor, then you want to come in the return, why?No Ok?So I tell you how much the current will be renewed in Birla.If you have a policy, then how much premium you have a premium in the bill, the round is changed.Ok Butt, how much did you take the last of how much did you pay?My Ekli is a premium of 2 years, so the idea is how much you have come now.Now again, you have to see if there is no problem, then the sing short, no matter how much it is worth lakhs, only will it be lacquer, meaning intake, how is the intake, how is it, nor does the cover double after taking the policy.There will not be any such offer, you do not have it, so anything is empty, so what is the new plan of SCST Argo nor how is it from Sir Optima, nor do you get 1 benefit that if you take the file shot, take the five lion,Tenlake, if you take a nearby shot, then you get the cover of that lakh and you get double, you will get a policy of 5 lakhs in plus benefit day plan.In this, you have unlimited restoration, meaning how many times you can claim in your policy, in 1 year.Sometimes you have claimed claims in the policy?No, it has not been claimed for 2 years, I tell you OK age, Sir, how much your current is going on, tell me the full date, I have a full date, not in the policy of Seventeen, Nineteen Seventi and how many members are in the policy of 4 members OK MaamAT, Four Purna DOP You can tell you Nineteen Tea Four, June Tea, Four's Third Child and Ha So or Doctor.2 are also children, Sunny is also OK, so what will happen to them.That means the head will be touched to calculate the premium, so I am asking 1, I have a fifteen et or nun, confusion is a little nine for.Ho Five Zero, One, Four Zero, Forest Ok, this is your watts number.Let me give for the total, for two, I will send PD in it, what will you have to do to get into the attachment of two juice, how do you do, do the process online and offline, you will get basic details online onlineFor example, what you did, when they will add to the Continue, have you got the Continuous Continuity, nor have you got the contribution after going to the port, then you have got the continuity, then you will get the whole from there, no one will be on waitingI will send it to you, then I call you the double nine intake of this fair, Gmailcom High OK Thank you.\n",
            "This very good, evening sir, I am getting like this?I am talking to bank insurance.It can be a matter of 2 minutes. Say, your first medical policy was being done in Argo which has been closed.So why did you stop this policy, you were not getting some problem, then you did not have Argametakuparbalum, then you have stopped the policy, I have not stopped, I did not stop, I shifted the policy to Aditya Birla, you people also callDid you say no.Right now, Hijri is right, how is it right now sir, the plan you were doing was a very old plan, so you just offered you.But now Arg's new plan interview optimascor, then you want to come in the return, why?No Ok?So I tell you how much the current will be renewed in Birla.If you have a policy, then how much premium you have a premium in the bill, the round is changed.Ok Butt, how much did you take the last of how much did you pay?My Ekli is a premium of 2 years, so the idea is how much you have come now.Now again, you have to see if there is no problem, then the sing short, no matter how much it is worth lakhs, only will it be lacquer, meaning intake, how is the intake, how is it, nor does the cover double after taking the policy.There will not be any such offer, you do not have it, so anything is empty, so what is the new plan of SCST Argo nor how is it from Sir Optima, nor do you get 1 benefit that if you take the file shot, take the five lion,Tenlake, if you take a nearby shot, then you get the cover of that lakh and you get double, you will get a policy of 5 lakhs in plus benefit day plan.In this, you have unlimited restoration, meaning how many times you can claim in your policy, in 1 year.Sometimes you have claimed claims in the policy?No, it has not been claimed for 2 years, I tell you OK age, Sir, how much your current is going on, tell me the full date, I have a full date, not in the policy of Seventeen, Nineteen Seventi and how many members are in the policy of 4 members OK MaamAT, Four Purna DOP You can tell you Nineteen Tea Four, June Tea, Four's Third Child and Ha So or Doctor.2 are also children, Sunny is also OK, so what will happen to them.That means the head will be touched to calculate the premium, so I am asking 1, I have a fifteen et or nun, confusion is a little nine for.Ho Five Zero, One, Four Zero, Forest Ok, this is your watts number.Let me give for the total, for two, I will send PD in it, what will you have to do to get into the attachment of two juice, how do you do, do the process online and offline, you will get basic details online onlineFor example, what you did, when they will add to the Continue, have you got the Continuous Continuity, nor have you got the contribution after going to the port, then you have got the continuity, then you will get the whole from there, no one will be on waitingI will send it to you, then I call you the double nine intake of this fair, Gmailcom High OK Thank you.\n",
            "\n",
            "Translation saved to 'translated_output.txt'.\n"
          ]
        }
      ],
      "source": [
        "import re\n",
        "import assemblyai as aai\n",
        "from googletrans import Translator\n",
        "\n",
        "# Replaced with API\n",
        "aai.settings.api_key = \"4a0524da1c2f4bb5a6a75f352b1d1666\"\n",
        "\n",
        "# URL of the file to transcribe\n",
        "FILE_URL = \"/content/1.mp3\"\n",
        "config = aai.TranscriptionConfig(\n",
        "  speech_model=aai.SpeechModel.best,\n",
        "  auto_highlights=True,\n",
        "  sentiment_analysis=True,\n",
        "  dual_channel=True,\n",
        "  entity_detection=True,\n",
        "  language_detection=True\n",
        ")\n",
        "\n",
        "transcriber = aai.Transcriber(config=config)\n",
        "transcript = transcriber.transcribe(FILE_URL)\n",
        "\n",
        "if transcript.status == aai.TranscriptStatus.error:\n",
        "    print(transcript.error)\n",
        "else:\n",
        "    translator = Translator()\n",
        "\n",
        "# Translate to English\n",
        "    translated = translator.translate(transcript.text, dest='en')\n",
        "    translated_lines = re.split(r'(?<=\\.)\\s+', translated.text)\n",
        "\n",
        "    for line in translated_lines:\n",
        "        print(line)\n",
        "\n",
        "    # Save the translated lines into a text file\n",
        "    with open(\"translated_output.txt\", \"w\") as file:\n",
        "        for line in translated_lines:\n",
        "            file.write(line.strip() + \"\\n\")\n",
        "\n",
        "    print(translated.text)\n",
        "\n",
        "print(\"\\nTranslation saved to 'translated_output.txt'.\")"
      ]
    }
  ]
}